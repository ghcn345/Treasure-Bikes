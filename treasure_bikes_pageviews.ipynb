{
 "cells": [
  {
   "cell_type": "markdown",
   "metadata": {},
   "source": [
    "# Treasure Bikes"
   ]
  },
  {
   "cell_type": "code",
   "execution_count": 1,
   "metadata": {},
   "outputs": [],
   "source": [
    "import numpy as np\n",
    "import scipy as sp\n",
    "import pandas as pd\n",
    "import seaborn as sns\n",
    "import matplotlib.pyplot as plt\n",
    "%matplotlib inline"
   ]
  },
  {
   "cell_type": "code",
   "execution_count": 445,
   "metadata": {},
   "outputs": [],
   "source": [
    "df = pd.read_csv('treasure_bikes_pageviews.csv')"
   ]
  },
  {
   "cell_type": "code",
   "execution_count": 6,
   "metadata": {},
   "outputs": [
    {
     "name": "stdout",
     "output_type": "stream",
     "text": [
      "<class 'pandas.core.frame.DataFrame'>\n",
      "RangeIndex: 20000 entries, 0 to 19999\n",
      "Data columns (total 12 columns):\n",
      " #   Column           Non-Null Count  Dtype \n",
      "---  ------           --------------  ----- \n",
      " 0   td_client_id     20000 non-null  object\n",
      " 1   td_path          20000 non-null  object\n",
      " 2   td_url           20000 non-null  object\n",
      " 3   td_referrer      20000 non-null  object\n",
      " 4   td_host          20000 non-null  object\n",
      " 5   td_browser       19042 non-null  object\n",
      " 6   td_ip            20000 non-null  object\n",
      " 7   td_os            18150 non-null  object\n",
      " 8   td_screen        19091 non-null  object\n",
      " 9   td_language      18852 non-null  object\n",
      " 10  td_canonical_id  20000 non-null  object\n",
      " 11  time             20000 non-null  int64 \n",
      "dtypes: int64(1), object(11)\n",
      "memory usage: 1.8+ MB\n"
     ]
    }
   ],
   "source": [
    "df.info()"
   ]
  },
  {
   "cell_type": "code",
   "execution_count": 446,
   "metadata": {},
   "outputs": [
    {
     "data": {
      "text/html": [
       "<div>\n",
       "<style scoped>\n",
       "    .dataframe tbody tr th:only-of-type {\n",
       "        vertical-align: middle;\n",
       "    }\n",
       "\n",
       "    .dataframe tbody tr th {\n",
       "        vertical-align: top;\n",
       "    }\n",
       "\n",
       "    .dataframe thead th {\n",
       "        text-align: right;\n",
       "    }\n",
       "</style>\n",
       "<table border=\"1\" class=\"dataframe\">\n",
       "  <thead>\n",
       "    <tr style=\"text-align: right;\">\n",
       "      <th></th>\n",
       "      <th>td_client_id</th>\n",
       "      <th>td_path</th>\n",
       "      <th>td_url</th>\n",
       "      <th>td_referrer</th>\n",
       "      <th>td_host</th>\n",
       "      <th>td_browser</th>\n",
       "      <th>td_ip</th>\n",
       "      <th>td_os</th>\n",
       "      <th>td_screen</th>\n",
       "      <th>td_language</th>\n",
       "      <th>td_canonical_id</th>\n",
       "      <th>time</th>\n",
       "    </tr>\n",
       "  </thead>\n",
       "  <tbody>\n",
       "    <tr>\n",
       "      <th>0</th>\n",
       "      <td>0a21a8e3-5758-4584-ba6e-ee5431b46d13</td>\n",
       "      <td>/cart/</td>\n",
       "      <td>https://www.treasurebikes.com/cart/?utm_source...</td>\n",
       "      <td>https://www.google.com</td>\n",
       "      <td>https://www.treasurebikes.com</td>\n",
       "      <td>Chrome Mobile iOS</td>\n",
       "      <td>37.230.91.92</td>\n",
       "      <td>Other</td>\n",
       "      <td>360x640</td>\n",
       "      <td>-</td>\n",
       "      <td>ee5431b46d13</td>\n",
       "      <td>1602792227</td>\n",
       "    </tr>\n",
       "    <tr>\n",
       "      <th>1</th>\n",
       "      <td>0a1f5100-1716-444a-8f6c-eb4e80d669d1</td>\n",
       "      <td>/shop/accessories/</td>\n",
       "      <td>https://www.treasurebikes.com/shop/accessories...</td>\n",
       "      <td>https://googlead.doubleclick.net</td>\n",
       "      <td>https://www.treasurebikes.com</td>\n",
       "      <td>Firefox</td>\n",
       "      <td>180.233.39.194</td>\n",
       "      <td>Android</td>\n",
       "      <td>NaN</td>\n",
       "      <td>NaN</td>\n",
       "      <td>eb4e80d669d1</td>\n",
       "      <td>1602793427</td>\n",
       "    </tr>\n",
       "    <tr>\n",
       "      <th>2</th>\n",
       "      <td>0a1f5100-1716-444a-8f6c-eb4e80d669d1</td>\n",
       "      <td>/shop/bicycles/</td>\n",
       "      <td>https://www.treasurebikes.com/shop/bicycles/?u...</td>\n",
       "      <td>https://www.google.com</td>\n",
       "      <td>https://www.treasurebikes.com</td>\n",
       "      <td>Firefox</td>\n",
       "      <td>180.233.39.194</td>\n",
       "      <td>Android</td>\n",
       "      <td>NaN</td>\n",
       "      <td>NaN</td>\n",
       "      <td>eb4e80d669d1</td>\n",
       "      <td>1602794627</td>\n",
       "    </tr>\n",
       "    <tr>\n",
       "      <th>3</th>\n",
       "      <td>0a07e6ce-a223-46f1-b3ef-c7bdcc3e9ce7</td>\n",
       "      <td>/shop/accessories/</td>\n",
       "      <td>https://www.treasurebikes.com/shop/accessories...</td>\n",
       "      <td>https://www.twitter.com</td>\n",
       "      <td>https://www.treasurebikes.com</td>\n",
       "      <td>Opera Mini</td>\n",
       "      <td>234.181.198.238</td>\n",
       "      <td>iOS</td>\n",
       "      <td>1280x800</td>\n",
       "      <td>th</td>\n",
       "      <td>c7bdcc3e9ce7</td>\n",
       "      <td>1602792227</td>\n",
       "    </tr>\n",
       "    <tr>\n",
       "      <th>4</th>\n",
       "      <td>0a07e6ce-a223-46f1-b3ef-c7bdcc3e9ce7</td>\n",
       "      <td>/shop/accessories/</td>\n",
       "      <td>https://www.treasurebikes.com/shop/accessories...</td>\n",
       "      <td>https://www.google.com</td>\n",
       "      <td>https://www.treasurebikes.com</td>\n",
       "      <td>Opera Mini</td>\n",
       "      <td>234.181.198.238</td>\n",
       "      <td>iOS</td>\n",
       "      <td>1280x800</td>\n",
       "      <td>th</td>\n",
       "      <td>c7bdcc3e9ce7</td>\n",
       "      <td>1602793427</td>\n",
       "    </tr>\n",
       "  </tbody>\n",
       "</table>\n",
       "</div>"
      ],
      "text/plain": [
       "                           td_client_id             td_path  \\\n",
       "0  0a21a8e3-5758-4584-ba6e-ee5431b46d13              /cart/   \n",
       "1  0a1f5100-1716-444a-8f6c-eb4e80d669d1  /shop/accessories/   \n",
       "2  0a1f5100-1716-444a-8f6c-eb4e80d669d1     /shop/bicycles/   \n",
       "3  0a07e6ce-a223-46f1-b3ef-c7bdcc3e9ce7  /shop/accessories/   \n",
       "4  0a07e6ce-a223-46f1-b3ef-c7bdcc3e9ce7  /shop/accessories/   \n",
       "\n",
       "                                              td_url  \\\n",
       "0  https://www.treasurebikes.com/cart/?utm_source...   \n",
       "1  https://www.treasurebikes.com/shop/accessories...   \n",
       "2  https://www.treasurebikes.com/shop/bicycles/?u...   \n",
       "3  https://www.treasurebikes.com/shop/accessories...   \n",
       "4  https://www.treasurebikes.com/shop/accessories...   \n",
       "\n",
       "                        td_referrer                        td_host  \\\n",
       "0            https://www.google.com  https://www.treasurebikes.com   \n",
       "1  https://googlead.doubleclick.net  https://www.treasurebikes.com   \n",
       "2            https://www.google.com  https://www.treasurebikes.com   \n",
       "3           https://www.twitter.com  https://www.treasurebikes.com   \n",
       "4            https://www.google.com  https://www.treasurebikes.com   \n",
       "\n",
       "          td_browser            td_ip    td_os td_screen td_language  \\\n",
       "0  Chrome Mobile iOS     37.230.91.92    Other   360x640           -   \n",
       "1            Firefox   180.233.39.194  Android       NaN         NaN   \n",
       "2            Firefox   180.233.39.194  Android       NaN         NaN   \n",
       "3         Opera Mini  234.181.198.238      iOS  1280x800          th   \n",
       "4         Opera Mini  234.181.198.238      iOS  1280x800          th   \n",
       "\n",
       "  td_canonical_id        time  \n",
       "0    ee5431b46d13  1602792227  \n",
       "1    eb4e80d669d1  1602793427  \n",
       "2    eb4e80d669d1  1602794627  \n",
       "3    c7bdcc3e9ce7  1602792227  \n",
       "4    c7bdcc3e9ce7  1602793427  "
      ]
     },
     "execution_count": 446,
     "metadata": {},
     "output_type": "execute_result"
    }
   ],
   "source": [
    "df.head()"
   ]
  },
  {
   "cell_type": "code",
   "execution_count": null,
   "metadata": {},
   "outputs": [],
   "source": []
  },
  {
   "cell_type": "markdown",
   "metadata": {},
   "source": [
    "## URL UTM parameters"
   ]
  },
  {
   "cell_type": "code",
   "execution_count": 214,
   "metadata": {},
   "outputs": [],
   "source": [
    "df['utm'] = df.td_url.str.split('/').map(lambda x: x[-1].split('&'))"
   ]
  },
  {
   "cell_type": "code",
   "execution_count": 215,
   "metadata": {},
   "outputs": [],
   "source": [
    "df['source'] = df.utm.str[0].str.split('=').map(lambda x: x[-1])"
   ]
  },
  {
   "cell_type": "code",
   "execution_count": 271,
   "metadata": {},
   "outputs": [
    {
     "data": {
      "text/plain": [
       "Text(0.5, 0, 'Percent')"
      ]
     },
     "execution_count": 271,
     "metadata": {},
     "output_type": "execute_result"
    },
    {
     "data": {
      "image/png": "[encoded data removed]",
      "text/plain": [
       "<Figure size 432x288 with 1 Axes>"
      ]
     },
     "metadata": {
      "needs_background": "light"
     },
     "output_type": "display_data"
    }
   ],
   "source": [
    "sns.barplot(x=df.source.value_counts(normalize=True, ascending=False), y=df.source.value_counts(normalize=True, ascending=False).index)\n",
    "plt.xlabel('Percent')"
   ]
  },
  {
   "cell_type": "code",
   "execution_count": null,
   "metadata": {},
   "outputs": [],
   "source": []
  },
  {
   "cell_type": "code",
   "execution_count": 101,
   "metadata": {},
   "outputs": [],
   "source": [
    "df['campaign'] = df.utm.str[1].str.split('=').str[1]"
   ]
  },
  {
   "cell_type": "code",
   "execution_count": 270,
   "metadata": {},
   "outputs": [
    {
     "data": {
      "text/plain": [
       "Text(0.5, 0, 'Percent')"
      ]
     },
     "execution_count": 270,
     "metadata": {},
     "output_type": "execute_result"
    },
    {
     "data": {
      "image/png": "[encoded data removed]",
      "text/plain": [
       "<Figure size 432x288 with 1 Axes>"
      ]
     },
     "metadata": {
      "needs_background": "light"
     },
     "output_type": "display_data"
    }
   ],
   "source": [
    "sns.barplot(x=df.campaign.value_counts(normalize=True, ascending=False), y=df.campaign.value_counts(normalize=True, ascending=False).index)\n",
    "plt.xlabel('Percent')"
   ]
  },
  {
   "cell_type": "code",
   "execution_count": null,
   "metadata": {},
   "outputs": [],
   "source": []
  },
  {
   "cell_type": "code",
   "execution_count": 104,
   "metadata": {},
   "outputs": [],
   "source": [
    "df['medium'] = df.utm.str[2].str.split('=').str[1]"
   ]
  },
  {
   "cell_type": "code",
   "execution_count": 269,
   "metadata": {},
   "outputs": [
    {
     "data": {
      "text/plain": [
       "Text(0.5, 0, 'Percent')"
      ]
     },
     "execution_count": 269,
     "metadata": {},
     "output_type": "execute_result"
    },
    {
     "data": {
      "image/png": "[encoded data removed]",
      "text/plain": [
       "<Figure size 432x288 with 1 Axes>"
      ]
     },
     "metadata": {
      "needs_background": "light"
     },
     "output_type": "display_data"
    }
   ],
   "source": [
    "sns.barplot(x=df.medium.value_counts(normalize=True, ascending=False), y=df.medium.value_counts(normalize=True, ascending=False).index)\n",
    "plt.xlabel('Percent')"
   ]
  },
  {
   "cell_type": "code",
   "execution_count": 228,
   "metadata": {},
   "outputs": [
    {
     "data": {
      "text/plain": [
       "Index(['email', 'social', 'search'], dtype='object')"
      ]
     },
     "execution_count": 228,
     "metadata": {},
     "output_type": "execute_result"
    }
   ],
   "source": [
    "df.medium.value_counts(normalize=True, ascending=True).index"
   ]
  },
  {
   "cell_type": "code",
   "execution_count": null,
   "metadata": {},
   "outputs": [],
   "source": []
  },
  {
   "cell_type": "markdown",
   "metadata": {},
   "source": [
    "## referrer"
   ]
  },
  {
   "cell_type": "code",
   "execution_count": 19,
   "metadata": {
    "tags": []
   },
   "outputs": [],
   "source": [
    "df['referrer'] = df.td_referrer.str.split('.').map(lambda x: x[1])"
   ]
  },
  {
   "cell_type": "code",
   "execution_count": 268,
   "metadata": {},
   "outputs": [
    {
     "data": {
      "text/plain": [
       "Text(0.5, 0, 'Percent')"
      ]
     },
     "execution_count": 268,
     "metadata": {},
     "output_type": "execute_result"
    },
    {
     "data": {
      "image/png": "[encoded data removed]",
      "text/plain": [
       "<Figure size 432x288 with 1 Axes>"
      ]
     },
     "metadata": {
      "needs_background": "light"
     },
     "output_type": "display_data"
    }
   ],
   "source": [
    "#df.groupby('referrer').size().plot(kind='barh')\n",
    "sns.barplot(x=df.referrer.value_counts(normalize=True, ascending=False), y=df.referrer.value_counts(normalize=True, ascending=False).index)\n",
    "plt.xlabel('Percent')"
   ]
  },
  {
   "cell_type": "markdown",
   "metadata": {},
   "source": [
    "## browser"
   ]
  },
  {
   "cell_type": "code",
   "execution_count": 255,
   "metadata": {},
   "outputs": [],
   "source": [
    "mobile_browser = ['UC Browser', 'Opera Mini', 'Mobile Safari', 'Chrome Mobile', 'Chrome Mobile iOS', 'Firefox Mobile', 'Android']\n",
    "condlist = [df.td_browser == 'Other', df.td_browser.isin(mobile_browser)]\n",
    "choicelist = ['Other', 'mobile browser']\n",
    "df['browser'] = np.select(condlist, choicelist, 'desktop browser')"
   ]
  },
  {
   "cell_type": "code",
   "execution_count": 374,
   "metadata": {},
   "outputs": [
    {
     "data": {
      "text/plain": [
       "Text(0.5, 0, 'Percent')"
      ]
     },
     "execution_count": 374,
     "metadata": {},
     "output_type": "execute_result"
    },
    {
     "data": {
      "image/png": "[encoded data removed]",
      "text/plain": [
       "<Figure size 432x288 with 1 Axes>"
      ]
     },
     "metadata": {
      "needs_background": "light"
     },
     "output_type": "display_data"
    }
   ],
   "source": [
    "sns.barplot(x=df.browser.value_counts(normalize=True, ascending=False), y=df.browser.value_counts(normalize=True, ascending=False).index)\n",
    "plt.xlabel('Percent')"
   ]
  },
  {
   "cell_type": "code",
   "execution_count": 373,
   "metadata": {},
   "outputs": [
    {
     "data": {
      "text/plain": [
       "Text(0.5, 0, 'Percent')"
      ]
     },
     "execution_count": 373,
     "metadata": {},
     "output_type": "execute_result"
    },
    {
     "data": {
      "image/png": "[encoded data removed]",
      "text/plain": [
       "<Figure size 432x288 with 1 Axes>"
      ]
     },
     "metadata": {
      "needs_background": "light"
     },
     "output_type": "display_data"
    }
   ],
   "source": [
    "sns.barplot(x=df.td_browser.value_counts(normalize=True, ascending=False), y=df.td_browser.value_counts(normalize=True, ascending=False).index)\n",
    "plt.xlabel('Percent')"
   ]
  },
  {
   "cell_type": "code",
   "execution_count": null,
   "metadata": {},
   "outputs": [],
   "source": []
  },
  {
   "cell_type": "markdown",
   "metadata": {},
   "source": [
    "## ip"
   ]
  },
  {
   "cell_type": "code",
   "execution_count": 145,
   "metadata": {},
   "outputs": [],
   "source": [
    "import urllib\n",
    "import time\n",
    "import json"
   ]
  },
  {
   "cell_type": "code",
   "execution_count": 168,
   "metadata": {},
   "outputs": [],
   "source": [
    "def location(ip):\n",
    "\n",
    "    url = 'http://ip-api.com/json/'+ip\n",
    "    req = urllib.request.Request(url)\n",
    "    loc = urllib.request.urlopen(req).read()\n",
    "    time.sleep(1)\n",
    "    \n",
    "    return loc"
   ]
  },
  {
   "cell_type": "code",
   "execution_count": 171,
   "metadata": {},
   "outputs": [
    {
     "data": {
      "text/plain": [
       "0     b'{\"status\":\"success\",\"country\":\"Spain\",\"count...\n",
       "1     b'{\"status\":\"success\",\"country\":\"China\",\"count...\n",
       "2     b'{\"status\":\"success\",\"country\":\"China\",\"count...\n",
       "3     b'{\"status\":\"fail\",\"message\":\"reserved range\",...\n",
       "4     b'{\"status\":\"fail\",\"message\":\"reserved range\",...\n",
       "                            ...                        \n",
       "95    b'{\"status\":\"success\",\"country\":\"United Kingdo...\n",
       "96    b'{\"status\":\"success\",\"country\":\"United Kingdo...\n",
       "97    b'{\"status\":\"success\",\"country\":\"United States...\n",
       "98    b'{\"status\":\"success\",\"country\":\"United States...\n",
       "99    b'{\"status\":\"success\",\"country\":\"China\",\"count...\n",
       "Name: td_ip, Length: 100, dtype: object"
      ]
     },
     "execution_count": 171,
     "metadata": {},
     "output_type": "execute_result"
    }
   ],
   "source": [
    "# df['ip'] = df.td_ip.value_counts().reset_index()['index'].map(lambda x: location(x))"
   ]
  },
  {
   "cell_type": "code",
   "execution_count": 203,
   "metadata": {},
   "outputs": [
    {
     "data": {
      "text/plain": [
       "b'{\"status\":\"success\",\"country\":\"Spain\",\"countryCode\":\"ES\",\"region\":\"AN\",\"regionName\":\"Andalusia\",\"city\":\"La Roda de Andalucia\",\"zip\":\"41590\",\"lat\":37.2049,\"lon\":-4.7819,\"timezone\":\"Europe/Madrid\",\"isp\":\"Servihosting\",\"org\":\"FIBRA \\xc3\\x93PTICA ANDALUC\\xc3\\x8dA SL\",\"as\":\"AS29119 ServiHosting Networks S.L.\",\"query\":\"37.230.91.92\"}'"
      ]
     },
     "execution_count": 203,
     "metadata": {},
     "output_type": "execute_result"
    }
   ],
   "source": [
    "df.td_ip[:1].map(lambda x: location(x))[0]"
   ]
  },
  {
   "cell_type": "code",
   "execution_count": 204,
   "metadata": {},
   "outputs": [
    {
     "data": {
      "text/plain": [
       "{'status': 'success',\n",
       " 'country': 'Spain',\n",
       " 'countryCode': 'ES',\n",
       " 'region': 'AN',\n",
       " 'regionName': 'Andalusia',\n",
       " 'city': 'La Roda de Andalucia',\n",
       " 'zip': '41590',\n",
       " 'lat': 37.2049,\n",
       " 'lon': -4.7819,\n",
       " 'timezone': 'Europe/Madrid',\n",
       " 'isp': 'Servihosting',\n",
       " 'org': 'FIBRA ÓPTICA ANDALUCÍA SL',\n",
       " 'as': 'AS29119 ServiHosting Networks S.L.',\n",
       " 'query': '37.230.91.92'}"
      ]
     },
     "execution_count": 204,
     "metadata": {},
     "output_type": "execute_result"
    }
   ],
   "source": [
    "json.loads(df.td_ip[:1].map(lambda x: location(x))[0])"
   ]
  },
  {
   "cell_type": "code",
   "execution_count": 444,
   "metadata": {},
   "outputs": [
    {
     "data": {
      "text/plain": [
       "Text(0, 0.5, 'Percent')"
      ]
     },
     "execution_count": 444,
     "metadata": {},
     "output_type": "execute_result"
    },
    {
     "data": {
      "image/png": "[encoded data removed]",
      "text/plain": [
       "<Figure size 432x288 with 1 Axes>"
      ]
     },
     "metadata": {
      "needs_background": "light"
     },
     "output_type": "display_data"
    }
   ],
   "source": [
    "sns.barplot(x=df.td_ip.value_counts().value_counts(normalize=True).index, y=df.td_ip.value_counts().value_counts(normalize=True))\n",
    "plt.xlabel('visit times')\n",
    "plt.ylabel('Percent')"
   ]
  },
  {
   "cell_type": "code",
   "execution_count": null,
   "metadata": {},
   "outputs": [],
   "source": [
    "sns.barplot(x=df.os.value_counts(normalize=True, ascending=False), y=df.os.value_counts(normalize=True, ascending=False).index)\n",
    "plt.xlabel('Percent')"
   ]
  },
  {
   "cell_type": "code",
   "execution_count": null,
   "metadata": {},
   "outputs": [],
   "source": []
  },
  {
   "cell_type": "code",
   "execution_count": null,
   "metadata": {},
   "outputs": [],
   "source": []
  },
  {
   "cell_type": "code",
   "execution_count": null,
   "metadata": {},
   "outputs": [],
   "source": [
    "def location(ip):\n",
    "\n",
    "    url = 'http://ip-api.com/json/'+ip\n",
    "    req = urllib.request.Request(url)\n",
    "    loc = urllib.request.urlopen(req).read()\n",
    "    time.sleep(1)\n",
    "    \n",
    "    return loc"
   ]
  },
  {
   "cell_type": "code",
   "execution_count": null,
   "metadata": {},
   "outputs": [],
   "source": [
    "dfip = df.td_ip.value_counts().reset_index()['index'][:2700].map(lambda x: location(x))"
   ]
  },
  {
   "cell_type": "code",
   "execution_count": null,
   "metadata": {},
   "outputs": [],
   "source": []
  },
  {
   "cell_type": "code",
   "execution_count": 51,
   "metadata": {},
   "outputs": [],
   "source": [
    "data = df.td_ip.value_counts()"
   ]
  },
  {
   "cell_type": "code",
   "execution_count": 54,
   "metadata": {},
   "outputs": [],
   "source": [
    "data.reset_index().rename(columns={data.index.name:'ip'}, inplace=True)"
   ]
  },
  {
   "cell_type": "code",
   "execution_count": null,
   "metadata": {},
   "outputs": [],
   "source": [
    "json.loads(dfip)"
   ]
  },
  {
   "cell_type": "code",
   "execution_count": null,
   "metadata": {},
   "outputs": [],
   "source": [
    "dfip.map(lambda x: json.loads(x))"
   ]
  },
  {
   "cell_type": "code",
   "execution_count": null,
   "metadata": {},
   "outputs": [],
   "source": []
  },
  {
   "cell_type": "code",
   "execution_count": null,
   "metadata": {},
   "outputs": [],
   "source": []
  },
  {
   "cell_type": "markdown",
   "metadata": {
    "tags": []
   },
   "source": [
    "## os"
   ]
  },
  {
   "cell_type": "code",
   "execution_count": 274,
   "metadata": {},
   "outputs": [],
   "source": [
    "windows = ['Windows', 'Windows 7', 'Windows 8', 'Windows 8.1']\n",
    "os = ['iOS', 'Mac OS X']\n",
    "linux = ['Linux', 'Ubuntu', 'Android']\n",
    "condlist = [df.td_os.isin(windows), df.td_os.isin(os), df.td_os.isin(linux)]\n",
    "choicelist = ['Windows', 'Mac OS/iOS', 'Linux/Android']\n",
    "df['os'] = np.select(condlist, choicelist, df.td_os)"
   ]
  },
  {
   "cell_type": "code",
   "execution_count": 275,
   "metadata": {},
   "outputs": [
    {
     "data": {
      "text/plain": [
       "Text(0.5, 0, 'Percent')"
      ]
     },
     "execution_count": 275,
     "metadata": {},
     "output_type": "execute_result"
    },
    {
     "data": {
      "image/png": "[encoded data removed]",
      "text/plain": [
       "<Figure size 432x288 with 1 Axes>"
      ]
     },
     "metadata": {
      "needs_background": "light"
     },
     "output_type": "display_data"
    }
   ],
   "source": [
    "sns.barplot(x=df.os.value_counts(normalize=True, ascending=False), y=df.os.value_counts(normalize=True, ascending=False).index)\n",
    "plt.xlabel('Percent')"
   ]
  },
  {
   "cell_type": "code",
   "execution_count": null,
   "metadata": {},
   "outputs": [],
   "source": []
  },
  {
   "cell_type": "markdown",
   "metadata": {},
   "source": [
    "## screen"
   ]
  },
  {
   "cell_type": "code",
   "execution_count": 404,
   "metadata": {},
   "outputs": [],
   "source": [
    "screen = pd.DataFrame(df.dropna().td_screen.str.split('x').str[0].astype(int)*df.dropna().td_screen.str.split('x').str[1].astype(int))"
   ]
  },
  {
   "cell_type": "code",
   "execution_count": 405,
   "metadata": {},
   "outputs": [],
   "source": [
    "condlist = [screen < 1024000, screen >= 1904640]\n",
    "choicelist = ['small', 'large']\n",
    "screen['size'] = np.select(condlist, choicelist, 'intermediate')"
   ]
  },
  {
   "cell_type": "code",
   "execution_count": 406,
   "metadata": {},
   "outputs": [
    {
     "data": {
      "text/plain": [
       "Text(0.5, 0, 'Percent')"
      ]
     },
     "execution_count": 406,
     "metadata": {},
     "output_type": "execute_result"
    },
    {
     "data": {
      "image/png": "[encoded data removed]",
      "text/plain": [
       "<Figure size 432x288 with 1 Axes>"
      ]
     },
     "metadata": {
      "needs_background": "light"
     },
     "output_type": "display_data"
    }
   ],
   "source": [
    "sns.barplot(x=screen['size'].value_counts(normalize=True, ascending=False), y=screen['size'].value_counts(normalize=True, ascending=False).index)\n",
    "plt.xlabel('Percent')"
   ]
  },
  {
   "cell_type": "code",
   "execution_count": 340,
   "metadata": {},
   "outputs": [
    {
     "data": {
      "text/plain": [
       "Text(0.5, 0, 'Percent')"
      ]
     },
     "execution_count": 340,
     "metadata": {},
     "output_type": "execute_result"
    },
    {
     "data": {
      "image/png": "[encoded data removed]",
      "text/plain": [
       "<Figure size 432x288 with 1 Axes>"
      ]
     },
     "metadata": {
      "needs_background": "light"
     },
     "output_type": "display_data"
    }
   ],
   "source": [
    "sns.barplot(x=df.td_screen.value_counts(normalize=True, ascending=False), y=df.td_screen.value_counts(normalize=True, ascending=False).index)\n",
    "plt.xlabel('Percent')"
   ]
  },
  {
   "cell_type": "code",
   "execution_count": null,
   "metadata": {},
   "outputs": [],
   "source": []
  },
  {
   "cell_type": "markdown",
   "metadata": {
    "tags": []
   },
   "source": [
    "## language"
   ]
  },
  {
   "cell_type": "code",
   "execution_count": 384,
   "metadata": {},
   "outputs": [],
   "source": [
    "condlist = [df.td_language=='fr', df.td_language=='ko', df.td_language=='lv', df.td_language=='hr', df.td_language=='ja-jp', \n",
    "            df.td_language=='en-us',\n",
    "            df.td_language=='pt-br', df.td_language=='en-au', df.td_language=='es-419', df.td_language=='es', df.td_language=='ja', \n",
    "            df.td_language=='uk', df.td_language=='th', df.td_language=='ko-kr' ]\n",
    "choicelist = ['French', 'Korean', 'Latvian', 'Croatian', 'Japanese', 'English', 'Portuguese', 'English', 'Spanish', 'Spanish', 'Japanese', \n",
    "              'Ukrainian', 'Thai', 'Korean']\n",
    "#df['language'] = np.select(condlist, choicelist, 'English')\n",
    "df['language'] = np.select(condlist, choicelist, df.td_language)"
   ]
  },
  {
   "cell_type": "code",
   "execution_count": 385,
   "metadata": {},
   "outputs": [
    {
     "data": {
      "text/plain": [
       "Text(0.5, 0, 'Percent')"
      ]
     },
     "execution_count": 385,
     "metadata": {},
     "output_type": "execute_result"
    },
    {
     "data": {
      "image/png": "[encoded data removed]",
      "text/plain": [
       "<Figure size 432x288 with 1 Axes>"
      ]
     },
     "metadata": {
      "needs_background": "light"
     },
     "output_type": "display_data"
    }
   ],
   "source": [
    "sns.barplot(x=df.language.value_counts(normalize=True, ascending=False), y=df.language.value_counts(normalize=True, ascending=False).index)\n",
    "plt.xlabel('Percent')"
   ]
  },
  {
   "cell_type": "code",
   "execution_count": null,
   "metadata": {},
   "outputs": [],
   "source": []
  },
  {
   "cell_type": "markdown",
   "metadata": {
    "tags": []
   },
   "source": [
    "## time"
   ]
  },
  {
   "cell_type": "code",
   "execution_count": 410,
   "metadata": {},
   "outputs": [],
   "source": [
    "from datetime import datetime, timedelta"
   ]
  },
  {
   "cell_type": "code",
   "execution_count": 431,
   "metadata": {},
   "outputs": [],
   "source": [
    "time = df.time.map(lambda x: datetime.fromtimestamp(x))"
   ]
  },
  {
   "cell_type": "code",
   "execution_count": 436,
   "metadata": {},
   "outputs": [
    {
     "data": {
      "text/plain": [
       "Text(0, 0.5, 'Percent')"
      ]
     },
     "execution_count": 436,
     "metadata": {},
     "output_type": "execute_result"
    },
    {
     "data": {
      "image/png": "[encoded data removed]",
      "text/plain": [
       "<Figure size 432x288 with 1 Axes>"
      ]
     },
     "metadata": {
      "needs_background": "light"
     },
     "output_type": "display_data"
    }
   ],
   "source": [
    "sns.barplot(x=time.dt.hour.value_counts(normalize=True, ascending=False).index, y=time.dt.hour.value_counts(normalize=True, ascending=False))\n",
    "plt.xlabel('Hour')\n",
    "plt.ylabel('Percent')"
   ]
  },
  {
   "cell_type": "code",
   "execution_count": 437,
   "metadata": {},
   "outputs": [
    {
     "data": {
      "text/plain": [
       "Text(0, 0.5, 'Percent')"
      ]
     },
     "execution_count": 437,
     "metadata": {},
     "output_type": "execute_result"
    },
    {
     "data": {
      "image/png": "[encoded data removed]",
      "text/plain": [
       "<Figure size 432x288 with 1 Axes>"
      ]
     },
     "metadata": {
      "needs_background": "light"
     },
     "output_type": "display_data"
    }
   ],
   "source": [
    "sns.barplot(x=time.dt.month.value_counts(normalize=True, ascending=False).index, y=time.dt.month.value_counts(normalize=True, ascending=False))\n",
    "plt.xlabel('Month')\n",
    "plt.ylabel('Percent')"
   ]
  },
  {
   "cell_type": "code",
   "execution_count": null,
   "metadata": {},
   "outputs": [],
   "source": []
  },
  {
   "cell_type": "code",
   "execution_count": null,
   "metadata": {},
   "outputs": [],
   "source": []
  }
 ],
 "metadata": {
  "kernelspec": {
   "display_name": "Python 3",
   "language": "python",
   "name": "python3"
  },
  "language_info": {
   "codemirror_mode": {
    "name": "ipython",
    "version": 3
   },
   "file_extension": ".py",
   "mimetype": "text/x-python",
   "name": "python",
   "nbconvert_exporter": "python",
   "pygments_lexer": "ipython3",
   "version": "3.8.5"
  }
 },
 "nbformat": 4,
 "nbformat_minor": 4
}
